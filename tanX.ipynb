{
 "cells": [
  {
   "cell_type": "code",
   "execution_count": null,
   "metadata": {},
   "outputs": [
    {
     "ename": "",
     "evalue": "",
     "output_type": "error",
     "traceback": [
      "\u001b[1;31mRunning cells with 'Python 3.10.6 64-bit' requires ipykernel package.\n",
      "\u001b[1;31mRun the following command to install 'ipykernel' into the Python environment. \n",
      "\u001b[1;31mCommand: '/usr/bin/python3.10 -m pip install ipykernel -U --user --force-reinstall'"
     ]
    }
   ],
   "source": [
    "import math\n",
    "import numpy as np\n",
    "import matplotlib.pyplot as plt\n",
    "\n",
    "\n",
    "#aproximaçao da tangente por taylor / maclaurin utilizando numero de bernoulli\n",
    "# relativamente precisa para ate 6-8 termos\n",
    "def tan_Taylor(x0, n):\n",
    "    somaTan = 0\n",
    "    for i in range(1 , n + 1):\n",
    "    #calculando numero de bernoulli que sao os coeficientes da serie de taylor de tan x\n",
    "        B = 0\n",
    "        numB = 2 * i\n",
    "        for j in range (numB + 1):\n",
    "            aux = 0\n",
    "            for k in range(0, j + 1):\n",
    "                aux += pow(-1, k) * math.factorial(j)  * pow(k, numB) / (math.factorial(k) * math.factorial(j - k))   \n",
    "\n",
    "            B += aux / ((j + 1))\n",
    "\n",
    "        somaTan +=  pow(-4, i) * (1 - pow(4, i)) * B * pow(x0, 2 * i - 1) / math.factorial(2 * i)\n",
    "    return somaTan\n",
    "\n",
    "\n",
    "\n",
    "#aproximaçao da tangente usando relações trigonométricas tan = sen/cos utilizamos as aproximaçoes de seno e cosseno para o calculo \n",
    "#precisao otima ate 15 algarismos apos a virgula usando 20 termos\n",
    "def tanSinCos(x0, n):\n",
    "    tan = np.divide(seno(x0, n), cosseno(x0, n))\n",
    "    return tan\n",
    "\n",
    "#aproximação de cosseno usando taylor / maclaurin\n",
    "def cosseno(x0, n):\n",
    "  numerador = -np.multiply(x0,x0)\n",
    "  denominador = 2.0\n",
    "  cosseno = np.add(1.0, numerador/denominador) \n",
    "\n",
    "  for n in range(2, n):\n",
    "    numerador = np.multiply(-numerador,np.multiply(x0,x0))\n",
    "    denominador = 2*np.multiply(denominador,2*np.power(n,2)-n)\n",
    "    cosseno = np.add(cosseno, np.divide(numerador,denominador))\n",
    "\n",
    "  return cosseno\n",
    "\n",
    "#aproximação de seno usando taylor / maclaurin\n",
    "def seno(x0, n):\n",
    "    seno = 0\n",
    "    for i in range(n):\n",
    "        sinal = (-1)**i  \n",
    "        seno +=(x0**(2.0*i + 1))/math.factorial(2*i+1)*sinal\n",
    "    return seno \n",
    "\n",
    "print(\"Tangente numpy: %.20f\" % np.tan(1))\n",
    "tanExpansion = tan_Taylor(1, 6)\n",
    "print(\"Tangente aproximada por taylor/maclaurin: %.20f\" %tanExpansion)\n",
    "tanSC = tanSinCos(1, 20)\n",
    "print(\"Tangente aproximada por taylor/maclaurin seno cossseno: %.20f\" %tanSC)\n",
    "\n",
    "x = np.linspace(-2*np.pi, 2*np.pi, 100)\n",
    "\n",
    "y1 = np.tan(x)\n",
    "y2 = tanSinCos(x, 10)\n",
    "y3 = tanSinCos(x, 6)\n",
    "y4 = tanSinCos(x, 1)\n",
    "\n",
    "fig, ax = plt.subplots()\n",
    "fig.set_size_inches(20, 8)\n",
    "ax.plot(x, y1, linewidth = 2.0, label =\"numpy Tan\")\n",
    "ax.plot(x, y2, linewidth = 2.0, label =\"Tan com 10 termos\")\n",
    "ax.plot(x, y3, linewidth = 2.0, label =\"Tan com 6 termos\")\n",
    "ax.plot(x, y4, linewidth = 2.0, label =\"Tan com 1 termos\")\n",
    "ax.legend()\n",
    "ax.grid()\n",
    "\n",
    "plt.show()"
   ]
  }
 ],
 "metadata": {
  "kernelspec": {
   "display_name": "Python 3.10.6 64-bit",
   "language": "python",
   "name": "python3"
  },
  "language_info": {
   "name": "python",
   "version": "3.10.6"
  },
  "orig_nbformat": 4,
  "vscode": {
   "interpreter": {
    "hash": "8a94588eda9d64d9e9a351ab8144e55b1fabf5113b54e67dd26a8c27df0381b3"
   }
  }
 },
 "nbformat": 4,
 "nbformat_minor": 2
}
